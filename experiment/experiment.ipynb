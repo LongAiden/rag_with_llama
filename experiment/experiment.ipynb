{
 "cells": [
  {
   "cell_type": "markdown",
   "id": "09ed2de3",
   "metadata": {},
   "source": [
    "Project Structure\n",
    "- Setup Chunking and processing steps for inputs (PDFs, docx, txt)\n",
    "- Setup PGVector Store (VS) + postgresql => Done\n",
    "- Using LLMs (OpenAI, Gemini,...) to query vectors from VS"
   ]
  },
  {
   "cell_type": "markdown",
   "id": "6d89cd4e",
   "metadata": {},
   "source": [
    "# Create PostgreDB "
   ]
  },
  {
   "cell_type": "code",
   "execution_count": 1,
   "id": "356d472c",
   "metadata": {},
   "outputs": [
    {
     "data": {
      "text/plain": [
       "True"
      ]
     },
     "execution_count": 1,
     "metadata": {},
     "output_type": "execute_result"
    }
   ],
   "source": [
    "import sys\n",
    "import os\n",
    "from dotenv import load_dotenv\n",
    "\n",
    "# Load environment variables\n",
    "load_dotenv('/Users/longnv/Coding/rag_llama_index/deployment/.env')"
   ]
  },
  {
   "cell_type": "code",
   "execution_count": 13,
   "id": "d2fc01b2",
   "metadata": {},
   "outputs": [],
   "source": [
    "import psycopg2\n",
    "\n",
    "db_name = os.environ['POSTGRES_DB']\n",
    "host = \"localhost\"\n",
    "password = os.environ['POSTGRES_PASSWORD']\n",
    "port = \"5432\"\n",
    "user = os.environ['POSTGRES_USER']\n",
    "# conn = psycopg2.connect(connection_string)\n",
    "conn = psycopg2.connect(\n",
    "    dbname=db_name,\n",
    "    host=host,\n",
    "    password=password,\n",
    "    port=port,\n",
    "    user=user,\n",
    ")\n",
    "conn.autocommit = True\n",
    "\n",
    "# with conn.cursor() as c:\n",
    "#     c.execute(f\"DROP DATABASE IF EXISTS {db_name}\")\n",
    "#     c.execute(f\"CREATE DATABASE {db_name}\")"
   ]
  },
  {
   "cell_type": "code",
   "execution_count": 16,
   "id": "5c0431d3",
   "metadata": {},
   "outputs": [
    {
     "name": "stdout",
     "output_type": "stream",
     "text": [
      "1\n",
      "{'user': 'admin', 'channel_binding': 'prefer', 'dbname': 'rag_db', 'host': 'localhost', 'port': '5432', 'options': '', 'sslmode': 'prefer', 'sslcompression': '0', 'sslcertmode': 'allow', 'sslsni': '1', 'ssl_min_protocol_version': 'TLSv1.2', 'gssencmode': 'prefer', 'krbsrvname': 'postgres', 'gssdelegation': '0', 'target_session_attrs': 'any', 'load_balance_hosts': 'disable'}\n",
      "Connection is active\n"
     ]
    }
   ],
   "source": [
    "print(conn.status)\n",
    "print(conn.get_dsn_parameters())\n",
    "with conn.cursor() as cursor:\n",
    "    cursor.execute(\"SELECT 1\")\n",
    "    print(\"Connection is active\")"
   ]
  },
  {
   "cell_type": "markdown",
   "id": "0f75f42d",
   "metadata": {},
   "source": [
    "# Checking file input"
   ]
  },
  {
   "cell_type": "code",
   "execution_count": null,
   "id": "08ca7925",
   "metadata": {},
   "outputs": [],
   "source": [
    "from pydantic import BaseModel, Field, field_validator\n",
    "from pydantic_ai import Agent, RunContext\n",
    "from uuid import UUID\n",
    "from chonkie import TokenChunker, SemanticChunker"
   ]
  },
  {
   "cell_type": "code",
   "execution_count": null,
   "id": "1770fbc7",
   "metadata": {},
   "outputs": [],
   "source": [
    "class ChunkingRequest(BaseModel):\n",
    "    doc_id: UUID = Field(..., description=\"The ID of the document to chunk\")\n",
    "    chunk_size: int | None = Field(512, ge=100, le=4096, description=\"Maximum tokens per chunk\")\n",
    "    overlap: int | None = Field(50, ge=0, le=200, description=\"Token overlap between chunks\")\n",
    "    force_rechunk: bool | None = Field(False, description=\"Force re-chunking even if chunks exist\")\n",
    "\n",
    "class ChunkingAgent:\n",
    "    def __init__(self, default_chunk_size: int = 1024, default_overlap: int = 50, use_semantic: bool = True):\n",
    "        self.default_chunk_size = default_chunk_size\n",
    "        self.default_overlap = default_overlap\n",
    "        self.use_semantic = use_semantic\n",
    "    \n",
    "    def chunk_document(self, content: str, request: ChunkingRequest) -> list[str]:\n",
    "        \"\"\"Chunk a document using chonkie library.\n",
    "        \n",
    "        Args:\n",
    "            content: The document content to chunk\n",
    "            request: Chunking parameters\n",
    "            \n",
    "        Returns:\n",
    "            List of chunk texts\n",
    "        \"\"\"\n",
    "        chunk_size = request.chunk_size or self.default_chunk_size\n",
    "        \n",
    "        if self.use_semantic:\n",
    "            # Use SemanticChunker for better content awareness\n",
    "            try:\n",
    "                chunker = SemanticChunker(\n",
    "                    embedding_model=\"all-MiniLM-L6-v2\",  # More compatible model\n",
    "                    threshold=0.5,  # Lower threshold for more grouping\n",
    "                    chunk_size=chunk_size,\n",
    "                    mode=\"cumulative\",  # Better for document structure\n",
    "                    min_sentences=3,     # Ensure meaningful chunks\n",
    "                    similarity_window=5  # Consider more sentences for similarity\n",
    "                )\n",
    "                raw_chunks = chunker.chunk(content)\n",
    "            except Exception as e:\n",
    "                print(f\"SemanticChunker failed: {e}\")\n",
    "                print(\"Falling back to TokenChunker...\")\n",
    "                # Fallback to TokenChunker\n",
    "                overlap = request.overlap or self.default_overlap\n",
    "                chunker = TokenChunker(chunk_size=chunk_size, chunk_overlap=overlap)\n",
    "                raw_chunks = chunker.chunk(content)\n",
    "        else:\n",
    "            # Fallback to TokenChunker\n",
    "            overlap = request.overlap or self.default_overlap\n",
    "            chunker = TokenChunker(chunk_size=chunk_size, chunk_overlap=overlap)\n",
    "            raw_chunks = chunker.chunk(content)\n",
    "        \n",
    "        return [chunk.text for chunk in raw_chunks]"
   ]
  },
  {
   "cell_type": "code",
   "execution_count": null,
   "id": "5aedf171",
   "metadata": {},
   "outputs": [],
   "source": []
  },
  {
   "cell_type": "code",
   "execution_count": null,
   "id": "055bedd0",
   "metadata": {},
   "outputs": [],
   "source": []
  },
  {
   "cell_type": "code",
   "execution_count": null,
   "id": "8615d83b",
   "metadata": {},
   "outputs": [],
   "source": []
  }
 ],
 "metadata": {
  "kernelspec": {
   "display_name": "longnv",
   "language": "python",
   "name": "python3"
  },
  "language_info": {
   "codemirror_mode": {
    "name": "ipython",
    "version": 3
   },
   "file_extension": ".py",
   "mimetype": "text/x-python",
   "name": "python",
   "nbconvert_exporter": "python",
   "pygments_lexer": "ipython3",
   "version": "3.13.7"
  }
 },
 "nbformat": 4,
 "nbformat_minor": 5
}
